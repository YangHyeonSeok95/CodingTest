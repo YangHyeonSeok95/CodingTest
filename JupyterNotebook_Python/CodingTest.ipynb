{
 "cells": [
  {
   "cell_type": "markdown",
   "id": "80b725a7",
   "metadata": {},
   "source": [
    "### add"
   ]
  },
  {
   "cell_type": "code",
   "execution_count": 1,
   "id": "b0639cc1",
   "metadata": {},
   "outputs": [
    {
     "name": "stdout",
     "output_type": "stream",
     "text": [
      "두 수의 합: 3\n"
     ]
    }
   ],
   "source": [
    "def solution(param1, param2):\n",
    "    return param1 + param2\n",
    "a = 1\n",
    "b = 2\n",
    "\n",
    "print(\"두 수의 합:\",solution(a,b))\n"
   ]
  },
  {
   "cell_type": "markdown",
   "id": "d35a839c",
   "metadata": {},
   "source": [
    "### Century From Year"
   ]
  },
  {
   "cell_type": "code",
   "execution_count": 2,
   "id": "92013964",
   "metadata": {},
   "outputs": [
    {
     "name": "stdout",
     "output_type": "stream",
     "text": [
      "1988\n",
      "20\n"
     ]
    }
   ],
   "source": [
    "def century(year):\n",
    "    return (year + 99) // 100\n",
    "year = int(input())\n",
    "print(century(year))"
   ]
  },
  {
   "cell_type": "code",
   "execution_count": null,
   "id": "9aa6ab86",
   "metadata": {},
   "outputs": [],
   "source": []
  },
  {
   "cell_type": "code",
   "execution_count": null,
   "id": "63598032",
   "metadata": {},
   "outputs": [],
   "source": []
  },
  {
   "cell_type": "code",
   "execution_count": null,
   "id": "81a0683e",
   "metadata": {},
   "outputs": [],
   "source": []
  },
  {
   "cell_type": "code",
   "execution_count": null,
   "id": "7f841601",
   "metadata": {},
   "outputs": [],
   "source": []
  }
 ],
 "metadata": {
  "kernelspec": {
   "display_name": "Python 3 (ipykernel)",
   "language": "python",
   "name": "python3"
  },
  "language_info": {
   "codemirror_mode": {
    "name": "ipython",
    "version": 3
   },
   "file_extension": ".py",
   "mimetype": "text/x-python",
   "name": "python",
   "nbconvert_exporter": "python",
   "pygments_lexer": "ipython3",
   "version": "3.9.12"
  },
  "toc": {
   "base_numbering": 1,
   "nav_menu": {},
   "number_sections": true,
   "sideBar": true,
   "skip_h1_title": false,
   "title_cell": "Table of Contents",
   "title_sidebar": "Contents",
   "toc_cell": false,
   "toc_position": {},
   "toc_section_display": true,
   "toc_window_display": false
  }
 },
 "nbformat": 4,
 "nbformat_minor": 5
}
